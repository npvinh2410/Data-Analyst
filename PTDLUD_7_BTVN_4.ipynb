{
  "nbformat": 4,
  "nbformat_minor": 0,
  "metadata": {
    "colab": {
      "provenance": [],
      "authorship_tag": "ABX9TyOiFyeRm5bjzQEw9RV/1b59",
      "include_colab_link": true
    },
    "kernelspec": {
      "name": "python3",
      "display_name": "Python 3"
    },
    "language_info": {
      "name": "python"
    }
  },
  "cells": [
    {
      "cell_type": "markdown",
      "metadata": {
        "id": "view-in-github",
        "colab_type": "text"
      },
      "source": [
        "<a href=\"https://colab.research.google.com/github/npvinh2410/Data-Analyst/blob/main/PTDLUD_7_BTVN_4.ipynb\" target=\"_parent\"><img src=\"https://colab.research.google.com/assets/colab-badge.svg\" alt=\"Open In Colab\"/></a>"
      ]
    },
    {
      "cell_type": "markdown",
      "source": [
        "Nhóm: PTDLUD#7\n",
        "\n",
        "Thành viên:\n",
        "\n",
        "- Ninh Việt Tiến - 19120680\n",
        "\n",
        "- Lại Khánh Toàn - 1912089\n",
        "\n",
        "- Trần Trọng Trí - 19120693\n",
        "\n",
        "- Nguyễn Phước Vinh - 19120719"
      ],
      "metadata": {
        "id": "YqRVUwrzoksK"
      }
    },
    {
      "cell_type": "markdown",
      "source": [
        "1 Các giả thuyết cần có của dữ liệu để thực hiện one-sample T test là:\n",
        "\n",
        "- Kiểm chứng giá trị trung\n",
        "bình một biến với một giá trị\n",
        "- Null Hypothesis (Ho): Giá trị trung bình bằng với giá trị giả thuyết\n",
        "muốn kiểm chứng\n",
        "- Alternative Hypothesis (H): Giá trị trung bình khác với giá trị giả thuyết\n"
      ],
      "metadata": {
        "id": "Ztj6u8Xlz6Sg"
      }
    },
    {
      "cell_type": "code",
      "source": [
        "import pandas as pd\n",
        "import numpy as np\n",
        "import seaborn as sns\n",
        "import matplotlib.pyplot as plt\n",
        "from scipy.stats import ttest_1samp\n",
        "from statsmodels.stats import weightstats as stests\n",
        "from collections import Counter"
      ],
      "metadata": {
        "id": "6YGVvDDhE5EF"
      },
      "execution_count": 41,
      "outputs": []
    },
    {
      "cell_type": "markdown",
      "source": [
        "2. a Kiểm tra xem dữ liệu có phân phối chuẩn không?"
      ],
      "metadata": {
        "id": "iLCvo8uQGBjk"
      }
    },
    {
      "cell_type": "code",
      "execution_count": 42,
      "metadata": {
        "colab": {
          "base_uri": "https://localhost:8080/",
          "height": 337
        },
        "id": "NcBB0R0Czl6o",
        "outputId": "52578ae6-6e3b-4451-b5d3-f7253ddaffb2"
      },
      "outputs": [
        {
          "output_type": "stream",
          "name": "stderr",
          "text": [
            "/usr/local/lib/python3.7/dist-packages/seaborn/distributions.py:2619: FutureWarning: `distplot` is a deprecated function and will be removed in a future version. Please adapt your code to use either `displot` (a figure-level function with similar flexibility) or `histplot` (an axes-level function for histograms).\n",
            "  warnings.warn(msg, FutureWarning)\n"
          ]
        },
        {
          "output_type": "execute_result",
          "data": {
            "text/plain": [
              "<matplotlib.axes._subplots.AxesSubplot at 0x7f75adc2cf50>"
            ]
          },
          "metadata": {},
          "execution_count": 42
        },
        {
          "output_type": "display_data",
          "data": {
            "text/plain": [
              "<Figure size 432x288 with 1 Axes>"
            ],
            "image/png": "[encoded data removed]"
          },
          "metadata": {}
        }
      ],
      "source": [
        "df2=[183, 152, 178, 157, 194, 163, 144, 114, 178, 152, 118, 158, 172,\n",
        "138]\n",
        "import seaborn as sns\n",
        "\n",
        "sns.set_style('darkgrid')\n",
        "sns.distplot(df2,bins=10)\n",
        "\n"
      ]
    },
    {
      "cell_type": "code",
      "source": [
        "print('Giá trị mean của df: ',np.mean(df2))"
      ],
      "metadata": {
        "colab": {
          "base_uri": "https://localhost:8080/"
        },
        "id": "6hVbnhRsFa0m",
        "outputId": "6fcd385f-5e9c-4d57-9b81-cc0d6030465a"
      },
      "execution_count": 43,
      "outputs": [
        {
          "output_type": "stream",
          "name": "stdout",
          "text": [
            "Giá trị mean của df:  157.21428571428572\n"
          ]
        }
      ]
    },
    {
      "cell_type": "code",
      "source": [
        "print('Giá trị median của df: ',np.median(df2))"
      ],
      "metadata": {
        "colab": {
          "base_uri": "https://localhost:8080/"
        },
        "id": "lW6fW52aFknt",
        "outputId": "1d0ffab2-9a3b-4ea6-9004-3ba1c573b51d"
      },
      "execution_count": 44,
      "outputs": [
        {
          "output_type": "stream",
          "name": "stdout",
          "text": [
            "Giá trị median của df:  157.5\n"
          ]
        }
      ]
    },
    {
      "cell_type": "code",
      "source": [
        "data = Counter(df2)\n",
        "data.most_common()"
      ],
      "metadata": {
        "colab": {
          "base_uri": "https://localhost:8080/"
        },
        "id": "8Rr_85xfqrFD",
        "outputId": "04354f48-0070-4f4e-99ec-cd47fe9ebf2a"
      },
      "execution_count": 45,
      "outputs": [
        {
          "output_type": "execute_result",
          "data": {
            "text/plain": [
              "[(152, 2),\n",
              " (178, 2),\n",
              " (183, 1),\n",
              " (157, 1),\n",
              " (194, 1),\n",
              " (163, 1),\n",
              " (144, 1),\n",
              " (114, 1),\n",
              " (118, 1),\n",
              " (158, 1),\n",
              " (172, 1),\n",
              " (138, 1)]"
            ]
          },
          "metadata": {},
          "execution_count": 45
        }
      ]
    },
    {
      "cell_type": "markdown",
      "source": [
        "Kết luận: dựa vào hình dạng đồ thị và giá trị mean, median, mode khác nhau nên ta kết luận rằng đồ thị không đạt phân phối chuẩn"
      ],
      "metadata": {
        "id": "-F-_JQn2FxCF"
      }
    },
    {
      "cell_type": "markdown",
      "source": [
        "2. b Hãy Kiểm tra xem population mean có nhỏ hơn 165 với significance level 0.05 hay không? Giải thích và lựa chọn loại kiểm chứng phù hợp\n",
        "\n",
        "Loại kiểm chứng: One sample t-test vì đây là kiểm tra trung bình một biến với giá trị giả thuyết và giá trị mẫu nhỏ hơn 30\n",
        "\n",
        "Giả thuyết:\n",
        "- Null hypothesis (H0) Giá trị population mean lớn hơn hoặc bằng 165 \n",
        "- Alternative hypothesis (H) Giá trị population mean nhỏ hơn 165\n"
      ],
      "metadata": {
        "id": "mc9eGXKZGSXN"
      }
    },
    {
      "cell_type": "code",
      "source": [
        "tset, pval = ttest_1samp(df2,165)\n",
        "pval = pval/2 # Since alternative hypothesis is one tailed, We need to divide the p value by 2.\n",
        "print('P value:', pval)\n",
        "if pval<0.05:\n",
        "  print(\"p_vlaue < 0.05. Chúng ta phủ nhận kết quả H0, population mean nhỏ hơn 165\")\n",
        "else:\n",
        "  print(\"p_value >= 0.05. Chúng ta chấp nhận kết quả H0, population mean lớn hơn hoặc bằng 165\")"
      ],
      "metadata": {
        "colab": {
          "base_uri": "https://localhost:8080/"
        },
        "id": "XTns2awCGU7O",
        "outputId": "1d18ed34-5a7c-43ea-d3f1-81d2abbc6e4e"
      },
      "execution_count": 46,
      "outputs": [
        {
          "output_type": "stream",
          "name": "stdout",
          "text": [
            "P value: 0.11787740505906531\n",
            "p_value >= 0.05. Chúng ta chấp nhận kết quả H0, population mean lớn hơn hoặc bằng 165\n"
          ]
        }
      ]
    },
    {
      "cell_type": "markdown",
      "source": [
        "3. Tập dữ liệu chứa chiều dài và chiều rộng của đài hoa và cánh hoa của các loài hoa khác nhau. Hãy thử nghiệm independent Test để xem liệu có sự khác biệt đáng kể về chiều rộng lá đài giữa loài Iris-setosa và Iris-versicolor, lần lượt là các biến “sepal_width” và “species”"
      ],
      "metadata": {
        "id": "rct91Xt2Od2m"
      }
    },
    {
      "cell_type": "markdown",
      "source": [
        "Loại kiểm chứng: two sample z-test vì số lượng mẫu lớn hơn 30 và kiểm chứng giá trị trung bình của hai biến\n",
        "\n",
        "Giả thuyết: \n",
        "- Null Hypothesis (H): Chiều rộng lá đài của loài Iris-setosa và loài Iris-versicolor là như nhau\n",
        "- Alterbative Hypothesis (H): Chiều rộng lá đài của loài Iris-setosa và loài Iris-versicolor là khác nhau"
      ],
      "metadata": {
        "id": "gqJ6IKgozxzq"
      }
    },
    {
      "cell_type": "code",
      "source": [
        "df3 = pd.read_csv('Iris_Data.csv')\n",
        "df3"
      ],
      "metadata": {
        "colab": {
          "base_uri": "https://localhost:8080/",
          "height": 424
        },
        "id": "UW_wTdeNOfRG",
        "outputId": "4a73bbbc-f4fc-4c35-c57b-fc6bdc6d6250"
      },
      "execution_count": 47,
      "outputs": [
        {
          "output_type": "execute_result",
          "data": {
            "text/plain": [
              "     sepal_length  sepal_width  petal_length  petal_width         species\n",
              "0             5.1          3.5           1.4          0.2     Iris-setosa\n",
              "1             4.9          3.0           1.4          0.2     Iris-setosa\n",
              "2             4.7          3.2           1.3          0.2     Iris-setosa\n",
              "3             4.6          3.1           1.5          0.2     Iris-setosa\n",
              "4             5.0          3.6           1.4          0.2     Iris-setosa\n",
              "..            ...          ...           ...          ...             ...\n",
              "145           6.7          3.0           5.2          2.3  Iris-virginica\n",
              "146           6.3          2.5           5.0          1.9  Iris-virginica\n",
              "147           6.5          3.0           5.2          2.0  Iris-virginica\n",
              "148           6.2          3.4           5.4          2.3  Iris-virginica\n",
              "149           5.9          3.0           5.1          1.8  Iris-virginica\n",
              "\n",
              "[150 rows x 5 columns]"
            ],
            "text/html": [
              "\n",
              "  <div id=\"df-a1080de4-3b8d-45d8-93ee-3f85bce5d688\">\n",
              "    <div class=\"colab-df-container\">\n",
              "      <div>\n",
              "<style scoped>\n",
              "    .dataframe tbody tr th:only-of-type {\n",
              "        vertical-align: middle;\n",
              "    }\n",
              "\n",
              "    .dataframe tbody tr th {\n",
              "        vertical-align: top;\n",
              "    }\n",
              "\n",
              "    .dataframe thead th {\n",
              "        text-align: right;\n",
              "    }\n",
              "</style>\n",
              "<table border=\"1\" class=\"dataframe\">\n",
              "  <thead>\n",
              "    <tr style=\"text-align: right;\">\n",
              "      <th></th>\n",
              "      <th>sepal_length</th>\n",
              "      <th>sepal_width</th>\n",
              "      <th>petal_length</th>\n",
              "      <th>petal_width</th>\n",
              "      <th>species</th>\n",
              "    </tr>\n",
              "  </thead>\n",
              "  <tbody>\n",
              "    <tr>\n",
              "      <th>0</th>\n",
              "      <td>5.1</td>\n",
              "      <td>3.5</td>\n",
              "      <td>1.4</td>\n",
              "      <td>0.2</td>\n",
              "      <td>Iris-setosa</td>\n",
              "    </tr>\n",
              "    <tr>\n",
              "      <th>1</th>\n",
              "      <td>4.9</td>\n",
              "      <td>3.0</td>\n",
              "      <td>1.4</td>\n",
              "      <td>0.2</td>\n",
              "      <td>Iris-setosa</td>\n",
              "    </tr>\n",
              "    <tr>\n",
              "      <th>2</th>\n",
              "      <td>4.7</td>\n",
              "      <td>3.2</td>\n",
              "      <td>1.3</td>\n",
              "      <td>0.2</td>\n",
              "      <td>Iris-setosa</td>\n",
              "    </tr>\n",
              "    <tr>\n",
              "      <th>3</th>\n",
              "      <td>4.6</td>\n",
              "      <td>3.1</td>\n",
              "      <td>1.5</td>\n",
              "      <td>0.2</td>\n",
              "      <td>Iris-setosa</td>\n",
              "    </tr>\n",
              "    <tr>\n",
              "      <th>4</th>\n",
              "      <td>5.0</td>\n",
              "      <td>3.6</td>\n",
              "      <td>1.4</td>\n",
              "      <td>0.2</td>\n",
              "      <td>Iris-setosa</td>\n",
              "    </tr>\n",
              "    <tr>\n",
              "      <th>...</th>\n",
              "      <td>...</td>\n",
              "      <td>...</td>\n",
              "      <td>...</td>\n",
              "      <td>...</td>\n",
              "      <td>...</td>\n",
              "    </tr>\n",
              "    <tr>\n",
              "      <th>145</th>\n",
              "      <td>6.7</td>\n",
              "      <td>3.0</td>\n",
              "      <td>5.2</td>\n",
              "      <td>2.3</td>\n",
              "      <td>Iris-virginica</td>\n",
              "    </tr>\n",
              "    <tr>\n",
              "      <th>146</th>\n",
              "      <td>6.3</td>\n",
              "      <td>2.5</td>\n",
              "      <td>5.0</td>\n",
              "      <td>1.9</td>\n",
              "      <td>Iris-virginica</td>\n",
              "    </tr>\n",
              "    <tr>\n",
              "      <th>147</th>\n",
              "      <td>6.5</td>\n",
              "      <td>3.0</td>\n",
              "      <td>5.2</td>\n",
              "      <td>2.0</td>\n",
              "      <td>Iris-virginica</td>\n",
              "    </tr>\n",
              "    <tr>\n",
              "      <th>148</th>\n",
              "      <td>6.2</td>\n",
              "      <td>3.4</td>\n",
              "      <td>5.4</td>\n",
              "      <td>2.3</td>\n",
              "      <td>Iris-virginica</td>\n",
              "    </tr>\n",
              "    <tr>\n",
              "      <th>149</th>\n",
              "      <td>5.9</td>\n",
              "      <td>3.0</td>\n",
              "      <td>5.1</td>\n",
              "      <td>1.8</td>\n",
              "      <td>Iris-virginica</td>\n",
              "    </tr>\n",
              "  </tbody>\n",
              "</table>\n",
              "<p>150 rows × 5 columns</p>\n",
              "</div>\n",
              "      <button class=\"colab-df-convert\" onclick=\"convertToInteractive('df-a1080de4-3b8d-45d8-93ee-3f85bce5d688')\"\n",
              "              title=\"Convert this dataframe to an interactive table.\"\n",
              "              style=\"display:none;\">\n",
              "        \n",
              "  <svg xmlns=\"http://www.w3.org/2000/svg\" height=\"24px\"viewBox=\"0 0 24 24\"\n",
              "       width=\"24px\">\n",
              "    <path d=\"M0 0h24v24H0V0z\" fill=\"none\"/>\n",
              "    <path d=\"M18.56 5.44l.94 2.06.94-2.06 2.06-.94-2.06-.94-.94-2.06-.94 2.06-2.06.94zm-11 1L8.5 8.5l.94-2.06 2.06-.94-2.06-.94L8.5 2.5l-.94 2.06-2.06.94zm10 10l.94 2.06.94-2.06 2.06-.94-2.06-.94-.94-2.06-.94 2.06-2.06.94z\"/><path d=\"M17.41 7.96l-1.37-1.37c-.4-.4-.92-.59-1.43-.59-.52 0-1.04.2-1.43.59L10.3 9.45l-7.72 7.72c-.78.78-.78 2.05 0 2.83L4 21.41c.39.39.9.59 1.41.59.51 0 1.02-.2 1.41-.59l7.78-7.78 2.81-2.81c.8-.78.8-2.07 0-2.86zM5.41 20L4 18.59l7.72-7.72 1.47 1.35L5.41 20z\"/>\n",
              "  </svg>\n",
              "      </button>\n",
              "      \n",
              "  <style>\n",
              "    .colab-df-container {\n",
              "      display:flex;\n",
              "      flex-wrap:wrap;\n",
              "      gap: 12px;\n",
              "    }\n",
              "\n",
              "    .colab-df-convert {\n",
              "      background-color: #E8F0FE;\n",
              "      border: none;\n",
              "      border-radius: 50%;\n",
              "      cursor: pointer;\n",
              "      display: none;\n",
              "      fill: #1967D2;\n",
              "      height: 32px;\n",
              "      padding: 0 0 0 0;\n",
              "      width: 32px;\n",
              "    }\n",
              "\n",
              "    .colab-df-convert:hover {\n",
              "      background-color: #E2EBFA;\n",
              "      box-shadow: 0px 1px 2px rgba(60, 64, 67, 0.3), 0px 1px 3px 1px rgba(60, 64, 67, 0.15);\n",
              "      fill: #174EA6;\n",
              "    }\n",
              "\n",
              "    [theme=dark] .colab-df-convert {\n",
              "      background-color: #3B4455;\n",
              "      fill: #D2E3FC;\n",
              "    }\n",
              "\n",
              "    [theme=dark] .colab-df-convert:hover {\n",
              "      background-color: #434B5C;\n",
              "      box-shadow: 0px 1px 3px 1px rgba(0, 0, 0, 0.15);\n",
              "      filter: drop-shadow(0px 1px 2px rgba(0, 0, 0, 0.3));\n",
              "      fill: #FFFFFF;\n",
              "    }\n",
              "  </style>\n",
              "\n",
              "      <script>\n",
              "        const buttonEl =\n",
              "          document.querySelector('#df-a1080de4-3b8d-45d8-93ee-3f85bce5d688 button.colab-df-convert');\n",
              "        buttonEl.style.display =\n",
              "          google.colab.kernel.accessAllowed ? 'block' : 'none';\n",
              "\n",
              "        async function convertToInteractive(key) {\n",
              "          const element = document.querySelector('#df-a1080de4-3b8d-45d8-93ee-3f85bce5d688');\n",
              "          const dataTable =\n",
              "            await google.colab.kernel.invokeFunction('convertToInteractive',\n",
              "                                                     [key], {});\n",
              "          if (!dataTable) return;\n",
              "\n",
              "          const docLinkHtml = 'Like what you see? Visit the ' +\n",
              "            '<a target=\"_blank\" href=https://colab.research.google.com/notebooks/data_table.ipynb>data table notebook</a>'\n",
              "            + ' to learn more about interactive tables.';\n",
              "          element.innerHTML = '';\n",
              "          dataTable['output_type'] = 'display_data';\n",
              "          await google.colab.output.renderOutput(dataTable, element);\n",
              "          const docLink = document.createElement('div');\n",
              "          docLink.innerHTML = docLinkHtml;\n",
              "          element.appendChild(docLink);\n",
              "        }\n",
              "      </script>\n",
              "    </div>\n",
              "  </div>\n",
              "  "
            ]
          },
          "metadata": {},
          "execution_count": 47
        }
      ]
    },
    {
      "cell_type": "code",
      "source": [
        "data1 = df3.loc[df3['species'] == 'Iris-setosa', 'sepal_width']\n",
        "data2 = df3.loc[df3['species'] == 'Iris-versicolor', 'sepal_width']\n",
        "zt, p = stests.ztest(x1 = data1, x2 = data2, value = 0)\n",
        "print('P value: ', p)\n",
        "if p < 0.05:\n",
        "  print('p_value < 0.05. Phủ nhận H0. Chiều rộng lá đài của loài Iris-setosa và loài Iris-versicolor là khác nhau')\n",
        "else:\n",
        "  print('p_value >= 0.05. Chấp nhận H0. Chiều rộng lá đài của loài Iris-setosa và loài Iris-versicolor là như nhau')"
      ],
      "metadata": {
        "colab": {
          "base_uri": "https://localhost:8080/"
        },
        "id": "53v_q4PPThyw",
        "outputId": "dfe529c0-db15-45d5-a1a0-0c2bbb9aceb5"
      },
      "execution_count": 48,
      "outputs": [
        {
          "output_type": "stream",
          "name": "stdout",
          "text": [
            "P value:  1.651247323451764e-20\n",
            "p_value < 0.05. Phủ nhận H0. Chiều rộng lá đài của loài Iris-setosa và loài Iris-versicolor là khác nhau\n"
          ]
        }
      ]
    },
    {
      "cell_type": "markdown",
      "source": [
        "4. Giả sử chúng ta đã thu thập một mẫu ngẫu nhiên gồm 31 thanh năng lượng từ một số cửa hàng khác nhau để đại diện cho số lượng thanh năng lượng có sẵn cho người tiêu dùng nói chung. Các nhãn trên thanh ghi rằng mỗi thanh chứa 20 gam protein"
      ],
      "metadata": {
        "id": "oQFcnm3uTk04"
      }
    },
    {
      "cell_type": "markdown",
      "source": [
        "Energy Bar - Grams of Protein\n",
        "\n",
        "20.70 27.46 22.15 19.85 21.29 24.75\n",
        "\n",
        "20.75 22.91 25.34 20.33 21.54 21.08\n",
        "\n",
        "22.14 19.56 21.10 18.04 24.12 19.95\n",
        "\n",
        "19.72 18.28 16.26 17.46 20.53 22.12\n",
        "\n",
        "25.06 22.44 19.08 19.88 21.39 22.33 25.79"
      ],
      "metadata": {
        "id": "KeE1-7DowchW"
      }
    },
    {
      "cell_type": "markdown",
      "source": [
        "Quan sát bảng trên, ta thấy một số thanh có ít hơn 20 gam protein, một số thì nhiều hơn. Bạn có\n",
        "thể nghĩ rằng dữ liệu hỗ trợ cho ý tưởng: các nhãn là chính xác. Cũng có thể có ý kiến không\n",
        "đồng ý nhận định này. Hãy lựa chọn và thực hiện một phương pháp kiểm chứng hợp lý để đưa\n",
        "để mọi người đưa ra quyết định giống nhau trên cùng một tập giá trị dữ liệu. Giải thích kết quả."
      ],
      "metadata": {
        "id": "8kDDtA_nwsx_"
      }
    },
    {
      "cell_type": "markdown",
      "source": [
        "Loại kiểm chứng: one sample z-test vì số lượng mẫu lớn hơn 30 và kiểm tra trung bình một biến với một giá trị giả thuyết\n",
        "\n",
        "Giả thuyết:\n",
        "\n",
        "Null Hypothesis (H0): mỗi thanh năng lượng chứa đúng 20 gam protein.\n",
        "\n",
        "Alternative Hypothesis (H): mỗi thanh năng lượng không chứa đúng 20 gam protein. "
      ],
      "metadata": {
        "id": "EcqZtzTQw1u3"
      }
    },
    {
      "cell_type": "code",
      "source": [
        "df4 = [20.70, 27.46,22.15, 19.85, 21.29, 24.75,\n",
        "        20.75, 22.91, 25.34, 20.33, 21.54, 21.08,\n",
        "        22.14, 19.56, 21.10, 18.04, 24.12, 19.95,\n",
        "        19.72, 18.28, 16.26, 17.46, 20.53, 22.12,\n",
        "        25.06, 22.44, 19.08, 19.88, 21.39, 22.33, 25.79]\n",
        "df4"
      ],
      "metadata": {
        "colab": {
          "base_uri": "https://localhost:8080/"
        },
        "id": "Qa7U6MonTofG",
        "outputId": "10e6f569-79c9-4f35-d71d-3919d9cb0c9c"
      },
      "execution_count": 49,
      "outputs": [
        {
          "output_type": "execute_result",
          "data": {
            "text/plain": [
              "[20.7,\n",
              " 27.46,\n",
              " 22.15,\n",
              " 19.85,\n",
              " 21.29,\n",
              " 24.75,\n",
              " 20.75,\n",
              " 22.91,\n",
              " 25.34,\n",
              " 20.33,\n",
              " 21.54,\n",
              " 21.08,\n",
              " 22.14,\n",
              " 19.56,\n",
              " 21.1,\n",
              " 18.04,\n",
              " 24.12,\n",
              " 19.95,\n",
              " 19.72,\n",
              " 18.28,\n",
              " 16.26,\n",
              " 17.46,\n",
              " 20.53,\n",
              " 22.12,\n",
              " 25.06,\n",
              " 22.44,\n",
              " 19.08,\n",
              " 19.88,\n",
              " 21.39,\n",
              " 22.33,\n",
              " 25.79]"
            ]
          },
          "metadata": {},
          "execution_count": 49
        }
      ]
    },
    {
      "cell_type": "code",
      "source": [
        "stat, p = stests.ztest(df4,value=20)\n",
        "print('P value:', p)\n",
        "if p < 0.05:\n",
        "  print(\"p_value < 0.05. Phủ nhận H0. Mỗi thanh năng lượng không chứa đúng 20 gam protein\")\n",
        "else:\n",
        "  print(\"p_value >= 0.05. Chấp nhận H0. Mỗi thanh năng lượng chứa đúng 20 gam protein\")"
      ],
      "metadata": {
        "colab": {
          "base_uri": "https://localhost:8080/"
        },
        "id": "NfFCFIHWTz35",
        "outputId": "5306d0ef-fcc9-422e-c4fe-566f8d9eb5a4"
      },
      "execution_count": 50,
      "outputs": [
        {
          "output_type": "stream",
          "name": "stdout",
          "text": [
            "P value: 0.0021634067481781484\n",
            "p_value < 0.05. Phủ nhận H0. Mỗi thanh năng lượng không chứa đúng 20 gam protein\n"
          ]
        }
      ]
    },
    {
      "cell_type": "markdown",
      "source": [
        "5 Thử nghiệm được thực hiện hai lần, trước và sau khi điều trị lâm sàng nhất định và chúng tôi muốn biết liệu có sự khác biệt đáng kể sau khi điều trị hay không. (Cơ sở dữ liệu có tính chất minh hoạ). Dữ liệu chứa các chỉ số BG (tính bằng mg / dL) cho 40 người mắc bệnh tiểu đường tại các thời điểm khác nhau."
      ],
      "metadata": {
        "id": "x2ExQI8HXD9p"
      }
    },
    {
      "cell_type": "code",
      "source": [
        "df5 = pd.read_csv('DuongHuyet db.csv')\n",
        "df5"
      ],
      "metadata": {
        "colab": {
          "base_uri": "https://localhost:8080/",
          "height": 1000
        },
        "id": "-86X6FN8XFNZ",
        "outputId": "638fdfe7-f276-486c-df3c-6b0cfbf61383"
      },
      "execution_count": 51,
      "outputs": [
        {
          "output_type": "execute_result",
          "data": {
            "text/plain": [
              "    Person ID        BG 1        BG 2        BG 3\n",
              "0           0   89.162573   94.023517   94.594145\n",
              "1           1   90.857629   95.273755   95.040646\n",
              "2           2   94.912999   96.612870   95.200472\n",
              "3           3   95.254064   96.818673   97.205801\n",
              "4           4   97.136291   97.760342   98.428840\n",
              "5           5   99.809999   99.169227   98.867769\n",
              "6           6  101.094087   99.579283   99.790581\n",
              "7           7  101.531428   99.661758  100.669928\n",
              "8           8  101.981148  100.812359  101.751155\n",
              "9           9  101.993065  102.274035  101.751638\n",
              "10         10  102.758441  102.687955  102.423280\n",
              "11         11  102.808287  102.709515  102.597458\n",
              "12         12  103.773481  103.014923  102.973689\n",
              "13         13  104.074398  103.883773  103.338758\n",
              "14         14  105.653537  105.069761  103.352092\n",
              "15         15  106.045162  105.128612  103.474950\n",
              "16         16  106.877605  105.772671  104.595142\n",
              "17         17  106.914143  106.160277  104.973827\n",
              "18         18  108.567145  107.409000  105.164046\n",
              "19         19  109.001032  108.140774  106.057874\n",
              "20         20  111.276240  108.794434  106.228482\n",
              "21         21  111.428013  108.853363  106.347281\n",
              "22         22  113.332585  109.987869  106.509553\n",
              "23         23  113.486440  110.481707  106.848709\n",
              "24         24  113.651191  110.674134  107.211313\n",
              "25         25  113.905810  110.746197  107.551055\n",
              "26         26  114.618895  111.004633  108.955580\n",
              "27         27  115.146081  111.559016  109.177237\n",
              "28         28  115.280832  111.837445  109.683145\n",
              "29         29  116.591975  112.163050  110.922990\n",
              "30         30  116.625623  112.898505  111.354589\n",
              "31         31  116.916803  113.339801  111.399816\n",
              "32         32  117.766795  113.396748  111.739214\n",
              "33         33  118.228006  117.284928  113.159574\n",
              "34         34  120.429077  117.352436  113.756102\n",
              "35         35  120.576597  117.551671  114.853073\n",
              "36         36  124.208603  117.610687  115.123258\n",
              "37         37  125.146587  119.184473  118.492357\n",
              "38         38  126.965934  120.547864  128.293614\n",
              "39         39  133.301076  121.015414  129.557685"
            ],
            "text/html": [
              "\n",
              "  <div id=\"df-7a44bcfc-c032-4c3c-9bb8-970c7b6186df\">\n",
              "    <div class=\"colab-df-container\">\n",
              "      <div>\n",
              "<style scoped>\n",
              "    .dataframe tbody tr th:only-of-type {\n",
              "        vertical-align: middle;\n",
              "    }\n",
              "\n",
              "    .dataframe tbody tr th {\n",
              "        vertical-align: top;\n",
              "    }\n",
              "\n",
              "    .dataframe thead th {\n",
              "        text-align: right;\n",
              "    }\n",
              "</style>\n",
              "<table border=\"1\" class=\"dataframe\">\n",
              "  <thead>\n",
              "    <tr style=\"text-align: right;\">\n",
              "      <th></th>\n",
              "      <th>Person ID</th>\n",
              "      <th>BG 1</th>\n",
              "      <th>BG 2</th>\n",
              "      <th>BG 3</th>\n",
              "    </tr>\n",
              "  </thead>\n",
              "  <tbody>\n",
              "    <tr>\n",
              "      <th>0</th>\n",
              "      <td>0</td>\n",
              "      <td>89.162573</td>\n",
              "      <td>94.023517</td>\n",
              "      <td>94.594145</td>\n",
              "    </tr>\n",
              "    <tr>\n",
              "      <th>1</th>\n",
              "      <td>1</td>\n",
              "      <td>90.857629</td>\n",
              "      <td>95.273755</td>\n",
              "      <td>95.040646</td>\n",
              "    </tr>\n",
              "    <tr>\n",
              "      <th>2</th>\n",
              "      <td>2</td>\n",
              "      <td>94.912999</td>\n",
              "      <td>96.612870</td>\n",
              "      <td>95.200472</td>\n",
              "    </tr>\n",
              "    <tr>\n",
              "      <th>3</th>\n",
              "      <td>3</td>\n",
              "      <td>95.254064</td>\n",
              "      <td>96.818673</td>\n",
              "      <td>97.205801</td>\n",
              "    </tr>\n",
              "    <tr>\n",
              "      <th>4</th>\n",
              "      <td>4</td>\n",
              "      <td>97.136291</td>\n",
              "      <td>97.760342</td>\n",
              "      <td>98.428840</td>\n",
              "    </tr>\n",
              "    <tr>\n",
              "      <th>5</th>\n",
              "      <td>5</td>\n",
              "      <td>99.809999</td>\n",
              "      <td>99.169227</td>\n",
              "      <td>98.867769</td>\n",
              "    </tr>\n",
              "    <tr>\n",
              "      <th>6</th>\n",
              "      <td>6</td>\n",
              "      <td>101.094087</td>\n",
              "      <td>99.579283</td>\n",
              "      <td>99.790581</td>\n",
              "    </tr>\n",
              "    <tr>\n",
              "      <th>7</th>\n",
              "      <td>7</td>\n",
              "      <td>101.531428</td>\n",
              "      <td>99.661758</td>\n",
              "      <td>100.669928</td>\n",
              "    </tr>\n",
              "    <tr>\n",
              "      <th>8</th>\n",
              "      <td>8</td>\n",
              "      <td>101.981148</td>\n",
              "      <td>100.812359</td>\n",
              "      <td>101.751155</td>\n",
              "    </tr>\n",
              "    <tr>\n",
              "      <th>9</th>\n",
              "      <td>9</td>\n",
              "      <td>101.993065</td>\n",
              "      <td>102.274035</td>\n",
              "      <td>101.751638</td>\n",
              "    </tr>\n",
              "    <tr>\n",
              "      <th>10</th>\n",
              "      <td>10</td>\n",
              "      <td>102.758441</td>\n",
              "      <td>102.687955</td>\n",
              "      <td>102.423280</td>\n",
              "    </tr>\n",
              "    <tr>\n",
              "      <th>11</th>\n",
              "      <td>11</td>\n",
              "      <td>102.808287</td>\n",
              "      <td>102.709515</td>\n",
              "      <td>102.597458</td>\n",
              "    </tr>\n",
              "    <tr>\n",
              "      <th>12</th>\n",
              "      <td>12</td>\n",
              "      <td>103.773481</td>\n",
              "      <td>103.014923</td>\n",
              "      <td>102.973689</td>\n",
              "    </tr>\n",
              "    <tr>\n",
              "      <th>13</th>\n",
              "      <td>13</td>\n",
              "      <td>104.074398</td>\n",
              "      <td>103.883773</td>\n",
              "      <td>103.338758</td>\n",
              "    </tr>\n",
              "    <tr>\n",
              "      <th>14</th>\n",
              "      <td>14</td>\n",
              "      <td>105.653537</td>\n",
              "      <td>105.069761</td>\n",
              "      <td>103.352092</td>\n",
              "    </tr>\n",
              "    <tr>\n",
              "      <th>15</th>\n",
              "      <td>15</td>\n",
              "      <td>106.045162</td>\n",
              "      <td>105.128612</td>\n",
              "      <td>103.474950</td>\n",
              "    </tr>\n",
              "    <tr>\n",
              "      <th>16</th>\n",
              "      <td>16</td>\n",
              "      <td>106.877605</td>\n",
              "      <td>105.772671</td>\n",
              "      <td>104.595142</td>\n",
              "    </tr>\n",
              "    <tr>\n",
              "      <th>17</th>\n",
              "      <td>17</td>\n",
              "      <td>106.914143</td>\n",
              "      <td>106.160277</td>\n",
              "      <td>104.973827</td>\n",
              "    </tr>\n",
              "    <tr>\n",
              "      <th>18</th>\n",
              "      <td>18</td>\n",
              "      <td>108.567145</td>\n",
              "      <td>107.409000</td>\n",
              "      <td>105.164046</td>\n",
              "    </tr>\n",
              "    <tr>\n",
              "      <th>19</th>\n",
              "      <td>19</td>\n",
              "      <td>109.001032</td>\n",
              "      <td>108.140774</td>\n",
              "      <td>106.057874</td>\n",
              "    </tr>\n",
              "    <tr>\n",
              "      <th>20</th>\n",
              "      <td>20</td>\n",
              "      <td>111.276240</td>\n",
              "      <td>108.794434</td>\n",
              "      <td>106.228482</td>\n",
              "    </tr>\n",
              "    <tr>\n",
              "      <th>21</th>\n",
              "      <td>21</td>\n",
              "      <td>111.428013</td>\n",
              "      <td>108.853363</td>\n",
              "      <td>106.347281</td>\n",
              "    </tr>\n",
              "    <tr>\n",
              "      <th>22</th>\n",
              "      <td>22</td>\n",
              "      <td>113.332585</td>\n",
              "      <td>109.987869</td>\n",
              "      <td>106.509553</td>\n",
              "    </tr>\n",
              "    <tr>\n",
              "      <th>23</th>\n",
              "      <td>23</td>\n",
              "      <td>113.486440</td>\n",
              "      <td>110.481707</td>\n",
              "      <td>106.848709</td>\n",
              "    </tr>\n",
              "    <tr>\n",
              "      <th>24</th>\n",
              "      <td>24</td>\n",
              "      <td>113.651191</td>\n",
              "      <td>110.674134</td>\n",
              "      <td>107.211313</td>\n",
              "    </tr>\n",
              "    <tr>\n",
              "      <th>25</th>\n",
              "      <td>25</td>\n",
              "      <td>113.905810</td>\n",
              "      <td>110.746197</td>\n",
              "      <td>107.551055</td>\n",
              "    </tr>\n",
              "    <tr>\n",
              "      <th>26</th>\n",
              "      <td>26</td>\n",
              "      <td>114.618895</td>\n",
              "      <td>111.004633</td>\n",
              "      <td>108.955580</td>\n",
              "    </tr>\n",
              "    <tr>\n",
              "      <th>27</th>\n",
              "      <td>27</td>\n",
              "      <td>115.146081</td>\n",
              "      <td>111.559016</td>\n",
              "      <td>109.177237</td>\n",
              "    </tr>\n",
              "    <tr>\n",
              "      <th>28</th>\n",
              "      <td>28</td>\n",
              "      <td>115.280832</td>\n",
              "      <td>111.837445</td>\n",
              "      <td>109.683145</td>\n",
              "    </tr>\n",
              "    <tr>\n",
              "      <th>29</th>\n",
              "      <td>29</td>\n",
              "      <td>116.591975</td>\n",
              "      <td>112.163050</td>\n",
              "      <td>110.922990</td>\n",
              "    </tr>\n",
              "    <tr>\n",
              "      <th>30</th>\n",
              "      <td>30</td>\n",
              "      <td>116.625623</td>\n",
              "      <td>112.898505</td>\n",
              "      <td>111.354589</td>\n",
              "    </tr>\n",
              "    <tr>\n",
              "      <th>31</th>\n",
              "      <td>31</td>\n",
              "      <td>116.916803</td>\n",
              "      <td>113.339801</td>\n",
              "      <td>111.399816</td>\n",
              "    </tr>\n",
              "    <tr>\n",
              "      <th>32</th>\n",
              "      <td>32</td>\n",
              "      <td>117.766795</td>\n",
              "      <td>113.396748</td>\n",
              "      <td>111.739214</td>\n",
              "    </tr>\n",
              "    <tr>\n",
              "      <th>33</th>\n",
              "      <td>33</td>\n",
              "      <td>118.228006</td>\n",
              "      <td>117.284928</td>\n",
              "      <td>113.159574</td>\n",
              "    </tr>\n",
              "    <tr>\n",
              "      <th>34</th>\n",
              "      <td>34</td>\n",
              "      <td>120.429077</td>\n",
              "      <td>117.352436</td>\n",
              "      <td>113.756102</td>\n",
              "    </tr>\n",
              "    <tr>\n",
              "      <th>35</th>\n",
              "      <td>35</td>\n",
              "      <td>120.576597</td>\n",
              "      <td>117.551671</td>\n",
              "      <td>114.853073</td>\n",
              "    </tr>\n",
              "    <tr>\n",
              "      <th>36</th>\n",
              "      <td>36</td>\n",
              "      <td>124.208603</td>\n",
              "      <td>117.610687</td>\n",
              "      <td>115.123258</td>\n",
              "    </tr>\n",
              "    <tr>\n",
              "      <th>37</th>\n",
              "      <td>37</td>\n",
              "      <td>125.146587</td>\n",
              "      <td>119.184473</td>\n",
              "      <td>118.492357</td>\n",
              "    </tr>\n",
              "    <tr>\n",
              "      <th>38</th>\n",
              "      <td>38</td>\n",
              "      <td>126.965934</td>\n",
              "      <td>120.547864</td>\n",
              "      <td>128.293614</td>\n",
              "    </tr>\n",
              "    <tr>\n",
              "      <th>39</th>\n",
              "      <td>39</td>\n",
              "      <td>133.301076</td>\n",
              "      <td>121.015414</td>\n",
              "      <td>129.557685</td>\n",
              "    </tr>\n",
              "  </tbody>\n",
              "</table>\n",
              "</div>\n",
              "      <button class=\"colab-df-convert\" onclick=\"convertToInteractive('df-7a44bcfc-c032-4c3c-9bb8-970c7b6186df')\"\n",
              "              title=\"Convert this dataframe to an interactive table.\"\n",
              "              style=\"display:none;\">\n",
              "        \n",
              "  <svg xmlns=\"http://www.w3.org/2000/svg\" height=\"24px\"viewBox=\"0 0 24 24\"\n",
              "       width=\"24px\">\n",
              "    <path d=\"M0 0h24v24H0V0z\" fill=\"none\"/>\n",
              "    <path d=\"M18.56 5.44l.94 2.06.94-2.06 2.06-.94-2.06-.94-.94-2.06-.94 2.06-2.06.94zm-11 1L8.5 8.5l.94-2.06 2.06-.94-2.06-.94L8.5 2.5l-.94 2.06-2.06.94zm10 10l.94 2.06.94-2.06 2.06-.94-2.06-.94-.94-2.06-.94 2.06-2.06.94z\"/><path d=\"M17.41 7.96l-1.37-1.37c-.4-.4-.92-.59-1.43-.59-.52 0-1.04.2-1.43.59L10.3 9.45l-7.72 7.72c-.78.78-.78 2.05 0 2.83L4 21.41c.39.39.9.59 1.41.59.51 0 1.02-.2 1.41-.59l7.78-7.78 2.81-2.81c.8-.78.8-2.07 0-2.86zM5.41 20L4 18.59l7.72-7.72 1.47 1.35L5.41 20z\"/>\n",
              "  </svg>\n",
              "      </button>\n",
              "      \n",
              "  <style>\n",
              "    .colab-df-container {\n",
              "      display:flex;\n",
              "      flex-wrap:wrap;\n",
              "      gap: 12px;\n",
              "    }\n",
              "\n",
              "    .colab-df-convert {\n",
              "      background-color: #E8F0FE;\n",
              "      border: none;\n",
              "      border-radius: 50%;\n",
              "      cursor: pointer;\n",
              "      display: none;\n",
              "      fill: #1967D2;\n",
              "      height: 32px;\n",
              "      padding: 0 0 0 0;\n",
              "      width: 32px;\n",
              "    }\n",
              "\n",
              "    .colab-df-convert:hover {\n",
              "      background-color: #E2EBFA;\n",
              "      box-shadow: 0px 1px 2px rgba(60, 64, 67, 0.3), 0px 1px 3px 1px rgba(60, 64, 67, 0.15);\n",
              "      fill: #174EA6;\n",
              "    }\n",
              "\n",
              "    [theme=dark] .colab-df-convert {\n",
              "      background-color: #3B4455;\n",
              "      fill: #D2E3FC;\n",
              "    }\n",
              "\n",
              "    [theme=dark] .colab-df-convert:hover {\n",
              "      background-color: #434B5C;\n",
              "      box-shadow: 0px 1px 3px 1px rgba(0, 0, 0, 0.15);\n",
              "      filter: drop-shadow(0px 1px 2px rgba(0, 0, 0, 0.3));\n",
              "      fill: #FFFFFF;\n",
              "    }\n",
              "  </style>\n",
              "\n",
              "      <script>\n",
              "        const buttonEl =\n",
              "          document.querySelector('#df-7a44bcfc-c032-4c3c-9bb8-970c7b6186df button.colab-df-convert');\n",
              "        buttonEl.style.display =\n",
              "          google.colab.kernel.accessAllowed ? 'block' : 'none';\n",
              "\n",
              "        async function convertToInteractive(key) {\n",
              "          const element = document.querySelector('#df-7a44bcfc-c032-4c3c-9bb8-970c7b6186df');\n",
              "          const dataTable =\n",
              "            await google.colab.kernel.invokeFunction('convertToInteractive',\n",
              "                                                     [key], {});\n",
              "          if (!dataTable) return;\n",
              "\n",
              "          const docLinkHtml = 'Like what you see? Visit the ' +\n",
              "            '<a target=\"_blank\" href=https://colab.research.google.com/notebooks/data_table.ipynb>data table notebook</a>'\n",
              "            + ' to learn more about interactive tables.';\n",
              "          element.innerHTML = '';\n",
              "          dataTable['output_type'] = 'display_data';\n",
              "          await google.colab.output.renderOutput(dataTable, element);\n",
              "          const docLink = document.createElement('div');\n",
              "          docLink.innerHTML = docLinkHtml;\n",
              "          element.appendChild(docLink);\n",
              "        }\n",
              "      </script>\n",
              "    </div>\n",
              "  </div>\n",
              "  "
            ]
          },
          "metadata": {},
          "execution_count": 51
        }
      ]
    },
    {
      "cell_type": "markdown",
      "source": [
        "**- Visualize dữ liệu trong khoảng 5 bin từ 60 đến 160 thể hiện dữ liệu của 2 nhóm trước và sau điều trị (sử dụng màu khác nhau để phân biệt).**\n",
        "\n",
        "---\n",
        "\n"
      ],
      "metadata": {
        "id": "5Qn2Dk2i2Riu"
      }
    },
    {
      "cell_type": "code",
      "source": [
        "\n",
        "#Vẽ histogram cột 'BG 1' và 'BG 2' đại diện cho chỉ số BG trước và sau khi điều trị\n",
        "\n",
        "import matplotlib.pyplot as plt\n",
        "plt.hist([df5['BG 1'], df5['BG 2']], bins=range(60,160,5), log=True)\n",
        "plt.plot()\n",
        "plt.show()\n"
      ],
      "metadata": {
        "colab": {
          "base_uri": "https://localhost:8080/",
          "height": 265
        },
        "id": "Xu3fYJzyXPQR",
        "outputId": "07cc6ca1-e7d8-4512-eb10-13844bb22223"
      },
      "execution_count": 52,
      "outputs": [
        {
          "output_type": "display_data",
          "data": {
            "text/plain": [
              "<Figure size 432x288 with 1 Axes>"
            ],
            "image/png": "[encoded data removed]"
          },
          "metadata": {}
        }
      ]
    },
    {
      "cell_type": "markdown",
      "source": [
        "*Không xét tới cột \"BG 3\" vì trong đề chỉ đề cập nhóm trước và sau là \"BG 1\" (màu xanh) và \"BG 2\"(màu cam)\n",
        "\n",
        "*Nhận xét: chỉ số BG ở lần đo thứ 2 tập trung hơn so với lần đo thứ nhất"
      ],
      "metadata": {
        "id": "ntyg02683iZT"
      }
    },
    {
      "cell_type": "markdown",
      "source": [
        "**- Lựa chọn loại kiểm chứng phù hợp để kiểm chứng và giải thích kết quả.**\n",
        "\n",
        "---\n",
        "\n"
      ],
      "metadata": {
        "id": "3rjiHnqm3uZC"
      }
    },
    {
      "cell_type": "markdown",
      "source": [
        "Loại kiểm chứng: two simple z-test vì số lượng mẫu lớn hơn 30 và kiểm chứng giá trị trung bình của hai biến\n",
        "\n",
        "Giả thuyết:\n",
        "- Null Hypothesis (H0): Hai giá trị trung bình của 2 lần đo huyết áp là như nhau.\n",
        "- Alterbative Hypothesis (H): Hai giá trị trung bình của 2 lần đo huyết áp khác nhau."
      ],
      "metadata": {
        "id": "EPvB8Bzj32E3"
      }
    },
    {
      "cell_type": "code",
      "source": [
        "stat, p = stests.ztest(df5['BG 1'], df5['BG 2'], value=0)\n",
        "\n",
        "print('P value:', p)\n",
        "if p < 0.05:\n",
        "  print('p_value < 0.05. Phủ nhận H0. Hai giá trị trung bình của 2 lần đo huyết áp khác nhau.')\n",
        "else:\n",
        "  print('p_value >= 0.05. Chấp nhận H0. Hai giá trị trung bình của 2 lần đo huyết áp là như nhau.')"
      ],
      "metadata": {
        "id": "0M8CmVnPIkmh",
        "colab": {
          "base_uri": "https://localhost:8080/"
        },
        "outputId": "bd48c2c9-3d55-4c57-9d02-565500da24ba"
      },
      "execution_count": 53,
      "outputs": [
        {
          "output_type": "stream",
          "name": "stdout",
          "text": [
            "P value: 0.3033235099948711\n",
            "p_value >= 0.05. Chấp nhận H0. Hai giá trị trung bình của 2 lần đo huyết áp là như nhau.\n"
          ]
        }
      ]
    }
  ]
}