{
  "nbformat": 4,
  "nbformat_minor": 0,
  "metadata": {
    "colab": {
      "provenance": [],
      "collapsed_sections": [],
      "include_colab_link": true
    },
    "kernelspec": {
      "name": "python3",
      "display_name": "Python 3"
    },
    "language_info": {
      "name": "python"
    }
  },
  "cells": [
    {
      "cell_type": "markdown",
      "metadata": {
        "id": "view-in-github",
        "colab_type": "text"
      },
      "source": [
        "<a href=\"https://colab.research.google.com/github/npvinh2410/Data-Analyst/blob/main/19120719_Lab_1_1.ipynb\" target=\"_parent\"><img src=\"https://colab.research.google.com/assets/colab-badge.svg\" alt=\"Open In Colab\"/></a>"
      ]
    },
    {
      "cell_type": "code",
      "source": [
        "import pandas as pd\n",
        "df=pd.read_csv('chipotle.tsv',sep='\\t')"
      ],
      "metadata": {
        "id": "LOHNQFDB4zQa"
      },
      "execution_count": null,
      "outputs": []
    },
    {
      "cell_type": "code",
      "source": [
        "print('So luong du lieu thieu trong cac muc:')\n",
        "df.isnull().sum()"
      ],
      "metadata": {
        "colab": {
          "base_uri": "https://localhost:8080/"
        },
        "id": "7gp6xmbSDpzl",
        "outputId": "2632e7db-7813-4c54-b282-ae34833524dc"
      },
      "execution_count": null,
      "outputs": [
        {
          "output_type": "stream",
          "name": "stdout",
          "text": [
            "So luong du lieu thieu trong cac muc:\n"
          ]
        },
        {
          "output_type": "execute_result",
          "data": {
            "text/plain": [
              "order_id                 0\n",
              "quantity                 0\n",
              "item_name                0\n",
              "choice_description    1246\n",
              "item_price               0\n",
              "dtype: int64"
            ]
          },
          "metadata": {},
          "execution_count": 17
        }
      ]
    },
    {
      "cell_type": "code",
      "source": [
        "temp=df['quantity']*df['item_price'].str.lstrip('$').apply(pd.to_numeric)\n",
        "#Ep kieu cot item_price de tien viec tinh toan\n",
        "df=df.assign(item_price=df['item_price'].str.lstrip('$').apply(pd.to_numeric))\n",
        "#Them cot total de tinh doanh thu cua tung san pham\n",
        "df=df.assign(total=temp)\n",
        "print(df)"
      ],
      "metadata": {
        "colab": {
          "base_uri": "https://localhost:8080/"
        },
        "id": "PviQIGi6PZ1H",
        "outputId": "9755722d-ffc8-4b26-af88-f217b255104e"
      },
      "execution_count": null,
      "outputs": [
        {
          "output_type": "stream",
          "name": "stdout",
          "text": [
            "      order_id  quantity                              item_name  \\\n",
            "0            1         1           Chips and Fresh Tomato Salsa   \n",
            "1            1         1                                   Izze   \n",
            "2            1         1                       Nantucket Nectar   \n",
            "3            1         1  Chips and Tomatillo-Green Chili Salsa   \n",
            "4            2         2                           Chicken Bowl   \n",
            "...        ...       ...                                    ...   \n",
            "4617      1833         1                          Steak Burrito   \n",
            "4618      1833         1                          Steak Burrito   \n",
            "4619      1834         1                     Chicken Salad Bowl   \n",
            "4620      1834         1                     Chicken Salad Bowl   \n",
            "4621      1834         1                     Chicken Salad Bowl   \n",
            "\n",
            "                                     choice_description  item_price  total  \n",
            "0                                                   NaN        2.39   2.39  \n",
            "1                                          [Clementine]        3.39   3.39  \n",
            "2                                               [Apple]        3.39   3.39  \n",
            "3                                                   NaN        2.39   2.39  \n",
            "4     [Tomatillo-Red Chili Salsa (Hot), [Black Beans...       16.98  33.96  \n",
            "...                                                 ...         ...    ...  \n",
            "4617  [Fresh Tomato Salsa, [Rice, Black Beans, Sour ...       11.75  11.75  \n",
            "4618  [Fresh Tomato Salsa, [Rice, Sour Cream, Cheese...       11.75  11.75  \n",
            "4619  [Fresh Tomato Salsa, [Fajita Vegetables, Pinto...       11.25  11.25  \n",
            "4620  [Fresh Tomato Salsa, [Fajita Vegetables, Lettu...        8.75   8.75  \n",
            "4621  [Fresh Tomato Salsa, [Fajita Vegetables, Pinto...        8.75   8.75  \n",
            "\n",
            "[4622 rows x 6 columns]\n"
          ]
        }
      ]
    },
    {
      "cell_type": "code",
      "source": [
        "df_c=df[df['item_name'].str.contains('Chicken')]\n",
        "print('Gia trung binh cua mot mat hang chua thit ga la:',df_c['item_price'].mean())\n",
        "print('Doanh thu trung binh cac san pham co chua thit ga la:',df_c['total'].sum()/df_c['quantity'].sum())"
      ],
      "metadata": {
        "colab": {
          "base_uri": "https://localhost:8080/"
        },
        "id": "wIJ0atli7vyH",
        "outputId": "c1ecdb80-37ab-41a2-ec9d-71d3d855d75a"
      },
      "execution_count": null,
      "outputs": [
        {
          "output_type": "stream",
          "name": "stdout",
          "text": [
            "Gia trung binh cua mot mat hang chua thit ga la: 10.133724358974359\n",
            "Doanh thu trung binh cac san pham co chua thit ga la: 10.726813784764209\n"
          ]
        }
      ]
    },
    {
      "cell_type": "code",
      "source": [
        "df_s=df[df['item_name'].str.contains('Steak')]\n",
        "print('Gia trung binh cua mot mat hang chua bit tet la:',df_s['item_price'].mean())\n",
        "print('Doanh thu trung binh cac san pham co chua bit tet la:',df_s['total'].sum()/df_s['quantity'].sum())"
      ],
      "metadata": {
        "colab": {
          "base_uri": "https://localhost:8080/"
        },
        "id": "Tx365slya-0N",
        "outputId": "69421a08-53a2-4677-f044-cd4356ceeaa8"
      },
      "execution_count": null,
      "outputs": [
        {
          "output_type": "stream",
          "name": "stdout",
          "text": [
            "Gia trung binh cua mot mat hang chua bit tet la: 10.51888888888889\n",
            "Doanh thu trung binh cac san pham co chua bit tet la: 10.998119891008175\n"
          ]
        }
      ]
    },
    {
      "cell_type": "code",
      "source": [
        "print('Doanh thu trung binh cac san pham:',df['total'].sum()/df['quantity'].sum())"
      ],
      "metadata": {
        "colab": {
          "base_uri": "https://localhost:8080/"
        },
        "id": "vIlKNH8KT4mf",
        "outputId": "7fa5d3a7-8967-4ad2-897b-141ccc8aa709"
      },
      "execution_count": null,
      "outputs": [
        {
          "output_type": "stream",
          "name": "stdout",
          "text": [
            "Doanh thu trung binh cac san pham: 7.8915969428801285\n"
          ]
        }
      ]
    },
    {
      "cell_type": "markdown",
      "source": [
        "Kết luận:\n",
        "Doanh thu trung bình của các sản phẩm chứa thịt gà và bít tết cao hơn doanh thu trung bình của tất cả sản phẩm. Do đó, thịt gà và bít tết tạo ra nhiều doanh thu hơn (tổng cộng).\n",
        "Doanh thu của bít tết cao hơn doanh thu của thịt gà."
      ],
      "metadata": {
        "id": "UX0iC6r_UD7O"
      }
    }
  ]
}